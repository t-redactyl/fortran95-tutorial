{
 "cells": [
  {
   "cell_type": "markdown",
   "metadata": {},
   "source": [
    "# Fortran 95 tutorials\n",
    "\n",
    "This series of exercises will work through [this tutorial](http://www.fortrantutorial.com/decisions/index.php). As programs that require user input can't be properly executed directly within the Jupyter shell, we'll execute our Fortran programs using the following steps:\n",
    "\n",
    "* Write the program to a .f95 using the magic `%%writefile <program name>`,  \n",
    "* Compile the program in a bash cell (using the `%%bash` magic) by running `gfortran -ffree-form <program name>`, and  \n",
    "* Execute the compile program in a bash cell by running `./a.out`.\n",
    "\n",
    "This will all be done using the Python kernel.\n",
    "\n",
    "## Tutorial 2: Decisions\n",
    "\n",
    "One of the first things to understand in Fortran is that even though the statements look like mathematical operations, they do different things. In Fortran, a statement like `x = 2` means \"store the value 2 in memory location x\". Similarly, `z = x + y` means \"take the values stored in memory locations x and y and assign them to memory location z\". As such, a perfectly valid statement in maths, `x + y = z` is invalid in Fortran, as the left hand side of the equation always refers to a memory location, and the memory location `x + y` does not exist.\n",
    "\n",
    "Let's test this out by writing a program that swaps the values stored in `a` and `b`."
   ]
  },
  {
   "cell_type": "code",
   "execution_count": 3,
   "metadata": {},
   "outputs": [
    {
     "name": "stdout",
     "output_type": "stream",
     "text": [
      "Overwriting swap.f95\n"
     ]
    }
   ],
   "source": [
    "%%writefile swap.f95\n",
    "\n",
    "program swap\n",
    "    real :: a, b, intermediate\n",
    "    print *, 'Please enter numbers \"a\" and \"b\": '\n",
    "    read *, a\n",
    "    read *, b\n",
    "    intermediate = a\n",
    "    a = b\n",
    "    b = intermediate\n",
    "    print *, 'The number \"a\" is now: ', a\n",
    "    print *, 'The number \"b\" is now: ', b\n",
    "end program swap"
   ]
  },
  {
   "cell_type": "code",
   "execution_count": 5,
   "metadata": {},
   "outputs": [
    {
     "name": "stdout",
     "output_type": "stream",
     "text": [
      " Please enter numbers \"a\" and \"b\": \n",
      " The number \"a\" is now:    200.000000    \n",
      " The number \"b\" is now:    1.00000000    \n"
     ]
    }
   ],
   "source": [
    "%%bash\n",
    "\n",
    "gfortran -ffree-form swap.f95\n",
    "./a.out\n",
    "1\n",
    "200"
   ]
  },
  {
   "cell_type": "markdown",
   "metadata": {},
   "source": [
    "### Arithmetic\n",
    "The arithmetic operators are:\n",
    "\n",
    "* `+,-`: plus and minus  \n",
    "* `*,/`: multiply and divide  \n",
    "* `**`: exponentiation (raise to the power)  \n",
    "* `()`: brackets\n",
    "\n",
    "The order of precedence in FORTRAN is identical to that of mathematics. Where operations are of equal precedence they are evaluated left to right. Consecutive exponentiations are evaluated right to left. We can override the order of evaluation by use of brackets."
   ]
  },
  {
   "cell_type": "code",
   "execution_count": null,
   "metadata": {
    "collapsed": true
   },
   "outputs": [],
   "source": []
  }
 ],
 "metadata": {
  "kernelspec": {
   "display_name": "Python 3",
   "language": "python",
   "name": "python3"
  },
  "language_info": {
   "codemirror_mode": {
    "name": "ipython",
    "version": 3
   },
   "file_extension": ".py",
   "mimetype": "text/x-python",
   "name": "python",
   "nbconvert_exporter": "python",
   "pygments_lexer": "ipython3",
   "version": "3.6.1"
  }
 },
 "nbformat": 4,
 "nbformat_minor": 2
}
