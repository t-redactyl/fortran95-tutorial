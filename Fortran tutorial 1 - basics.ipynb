{
 "cells": [
  {
   "cell_type": "markdown",
   "metadata": {},
   "source": [
    "# Fortran 95 tutorials\n",
    "\n",
    "This series of exercises will work through [this tutorial](http://www.fortrantutorial.com/basics/index.php). As programs that require user input can't be properly executed directly within the Jupyter shell, we'll execute our Fortran programs using the following steps:\n",
    "\n",
    "* Write the program to a .f95 using the magic `%%writefile <program name>`,  \n",
    "* Compile the program in a bash cell (using the `%%bash` magic) by running `gfortran -ffree-form <program name>`, and  \n",
    "* Execute the compile program in a bash cell by running `./a.out`.\n",
    "\n",
    "This will all be done using the Python kernel.\n",
    "\n",
    "## Tutorial 1: Basics"
   ]
  },
  {
   "cell_type": "code",
   "execution_count": 12,
   "metadata": {},
   "outputs": [
    {
     "name": "stdout",
     "output_type": "stream",
     "text": [
      "Writing first.f95\n"
     ]
    }
   ],
   "source": [
    "%%writefile first.f95\n",
    "\n",
    "!My first program\n",
    "program first\n",
    "    print *,'This is my first program'\n",
    "end program first"
   ]
  },
  {
   "cell_type": "code",
   "execution_count": 14,
   "metadata": {},
   "outputs": [
    {
     "name": "stdout",
     "output_type": "stream",
     "text": [
      " This is my first program\n"
     ]
    }
   ],
   "source": [
    "%%bash\n",
    "\n",
    "gfortran -ffree-form first.f95\n",
    "./a.out"
   ]
  },
  {
   "cell_type": "markdown",
   "metadata": {},
   "source": [
    "We've now written our first program in Fortran!\n",
    "\n",
    "Let's have a closer look at the structure of a Fortran program:"
   ]
  },
  {
   "cell_type": "code",
   "execution_count": 18,
   "metadata": {},
   "outputs": [
    {
     "name": "stdout",
     "output_type": "stream",
     "text": [
      "Writing myfile.f95\n"
     ]
    }
   ],
   "source": [
    "%%writefile program_structure.f95\n",
    "\n",
    "program sum                                          !a: name of program\n",
    "!An example of program structure                     !b: a  comment\n",
    "    real :: answer,x,y                               !c: declarations\n",
    "    print *, 'Enter two numbers'                     !d: output\n",
    "    read *, x                                        !e: input\n",
    "    read *, y                                        !e: input\n",
    "    answer=x+y                                       !f: arithmetic\n",
    "    print *, 'The total is ', answer                 !g: output\n",
    "end program sum"
   ]
  },
  {
   "cell_type": "markdown",
   "metadata": {},
   "source": [
    "The program is made up of a number of lines. Each line is called a statement, and the statements are executed sequentially. Each statement is made up of:\n",
    "* variable names, e.g. `answer`, `x`, `y`  \n",
    "* operators, e.g. `+`, `=`  \n",
    "* keywords, e.g. `read`, `print`  \n",
    "\n",
    "Let's break the program down, line by line:\n",
    "\n",
    "* The name of the program. Keep it reasonably short and meaningful.  \n",
    "* A comment explaining the purpose of the program. Comments are indicated by an exclamation mark.  \n",
    "* Variables - `answer`, `x` and `y` are used to store floating point numbers – we indicate this by declaring them as real.  \n",
    "* `print *,` outputs to the screen – the asterisk means use the default number of decimal places when the number is written to the screen.  \n",
    "* We read information from the keyboard and store the values in x and y.  \n",
    "* Do some arithmetic and store the answer in answer.  \n",
    "* Output the result to the screen.  \n",
    "* Conclude the program. \n",
    "\n",
    "Let's now run the program and see what happens."
   ]
  },
  {
   "cell_type": "code",
   "execution_count": 19,
   "metadata": {},
   "outputs": [
    {
     "name": "stdout",
     "output_type": "stream",
     "text": [
      " Enter two numbers\n",
      " The total is    18.0000000    \n"
     ]
    }
   ],
   "source": [
    "%%bash\n",
    "gfortran -ffree-form program_structure.f95\n",
    "./a.out\n",
    "8\n",
    "10"
   ]
  },
  {
   "cell_type": "markdown",
   "metadata": {},
   "source": [
    "As you can see we were asked to enter two numbers, so gave 8 and 10. These were added to 18 and returned. Let's try another program."
   ]
  },
  {
   "cell_type": "code",
   "execution_count": 1,
   "metadata": {},
   "outputs": [
    {
     "name": "stdout",
     "output_type": "stream",
     "text": [
      "Writing io.f95\n"
     ]
    }
   ],
   "source": [
    "%%writefile io.f95\n",
    "\n",
    "program io\n",
    "    real :: x, y, z\n",
    "    print *, 'Enter the values x, y and z.'\n",
    "    read *, x, y, z\n",
    "    print *, 'The values you entered for z, y, and x are: ', z, y, x\n",
    "end program io"
   ]
  },
  {
   "cell_type": "code",
   "execution_count": 4,
   "metadata": {},
   "outputs": [
    {
     "name": "stdout",
     "output_type": "stream",
     "text": [
      " Enter the values x, y and z.\n",
      " The values you entered for z, y, and x are:    6.00000000       100.000000       12.0000000    \n"
     ]
    }
   ],
   "source": [
    "%%bash\n",
    "gfortran -ffree-form io.f95\n",
    "./a.out\n",
    "12\n",
    "100\n",
    "6"
   ]
  },
  {
   "cell_type": "markdown",
   "metadata": {},
   "source": [
    "Here is a program that is full of bugs. These issues are annotated using comments."
   ]
  },
  {
   "cell_type": "code",
   "execution_count": 2,
   "metadata": {},
   "outputs": [
    {
     "name": "stderr",
     "output_type": "stream",
     "text": [
      "/var/folders/jq/j1k41wzs0ddflbrr33twdnm00000gn/T/tmpb19p75v3.f90:4:4:\n",
      "\n",
      "     this program is full of errors\n",
      "    1\n",
      "Error: Unclassifiable statement at (1)\n",
      "/var/folders/jq/j1k41wzs0ddflbrr33twdnm00000gn/T/tmpb19p75v3.f90:9:18:\n",
      "\n",
      " end program simple\n",
      "                  1\n",
      "Error: Expected label 'bug' for END PROGRAM statement at (1)\n",
      "f951: Error: Unexpected end of file in '/var/folders/jq/j1k41wzs0ddflbrr33twdnm00000gn/T/tmpb19p75v3.f90'\n",
      "[Fortran kernel] gfortran exited with code 1, the executable will not be executed"
     ]
    }
   ],
   "source": [
    "%%writefile bug.f95\n",
    "\n",
    "program bug\n",
    "    this program is full of errors                 !Should be a comment.\n",
    "    real :: a,b,c\n",
    "    a = b + c                                      !Trying to add when haven't read in any values.\n",
    "                                                   !No statement asking user to enter b and c.\n",
    "    read *,c                                       !No read keyword to get b.\n",
    "    print *,a\n",
    "end program simple                                 !Wrong program name."
   ]
  },
  {
   "cell_type": "markdown",
   "metadata": {},
   "source": [
    "I've fixed these bugs below."
   ]
  },
  {
   "cell_type": "code",
   "execution_count": 4,
   "metadata": {},
   "outputs": [
    {
     "name": "stdout",
     "output_type": "stream",
     "text": [
      "Overwriting bug.f95\n"
     ]
    }
   ],
   "source": [
    "%%writefile bug.f95\n",
    "\n",
    "program bug\n",
    "    !This program is full of errors                \n",
    "    real :: a, b, c\n",
    "    print *, 'Enter two values.'\n",
    "    read *, b\n",
    "    read *, c\n",
    "    a = b + c\n",
    "    print *, a\n",
    "end program bug"
   ]
  },
  {
   "cell_type": "code",
   "execution_count": 5,
   "metadata": {},
   "outputs": [
    {
     "name": "stdout",
     "output_type": "stream",
     "text": [
      " Enter two values.\n",
      "   10.0000000    \n"
     ]
    }
   ],
   "source": [
    "%%bash\n",
    "gfortran -ffree-form bug.f95\n",
    "./a.out\n",
    "9\n",
    "1"
   ]
  },
  {
   "cell_type": "markdown",
   "metadata": {},
   "source": [
    "Now I will write my own program using everything learned so far."
   ]
  },
  {
   "cell_type": "code",
   "execution_count": 1,
   "metadata": {},
   "outputs": [
    {
     "name": "stdout",
     "output_type": "stream",
     "text": [
      "Writing convert.f95\n"
     ]
    }
   ],
   "source": [
    "%%writefile convert.f95\n",
    "\n",
    "program convert\n",
    "    !This program returns people's age from their year of birth.\n",
    "    real :: year, age\n",
    "    print *, 'What year were you born?'\n",
    "    read *, year\n",
    "    age = 2017 - year\n",
    "    print *, 'Your age is', age\n",
    "end program convert"
   ]
  },
  {
   "cell_type": "code",
   "execution_count": 2,
   "metadata": {},
   "outputs": [
    {
     "name": "stdout",
     "output_type": "stream",
     "text": [
      " What year were you born?\n",
      " Your age is   33.0000000    \n"
     ]
    }
   ],
   "source": [
    "%%bash\n",
    "gfortran -ffree-form convert.f95\n",
    "./a.out\n",
    "1984"
   ]
  },
  {
   "cell_type": "code",
   "execution_count": null,
   "metadata": {
    "collapsed": true
   },
   "outputs": [],
   "source": []
  }
 ],
 "metadata": {
  "kernelspec": {
   "display_name": "Python 3",
   "language": "python",
   "name": "python3"
  },
  "language_info": {
   "codemirror_mode": {
    "name": "ipython",
    "version": 3
   },
   "file_extension": ".py",
   "mimetype": "text/x-python",
   "name": "python",
   "nbconvert_exporter": "python",
   "pygments_lexer": "ipython3",
   "version": "3.6.1"
  }
 },
 "nbformat": 4,
 "nbformat_minor": 2
}
